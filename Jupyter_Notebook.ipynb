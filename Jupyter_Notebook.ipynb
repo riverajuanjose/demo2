{
 "cells": [
  {
   "cell_type": "markdown",
   "metadata": {},
   "source": [
    "<center>\n",
    "    <img src=\"https://s3-api.us-geo.objectstorage.softlayer.net/cf-courses-data/CognitiveClass/Logos/organization_logo/organization_logo.png\" width=\"300\" alt=\"cognitiveclass.ai logo\"  />\n",
    "</center>\n"
   ]
  },
  {
   "cell_type": "markdown",
   "metadata": {},
   "source": [
    "#### Add your code below following the instructions given in the course\n"
   ]
  },
  {
   "cell_type": "markdown",
   "metadata": {},
   "source": [
    "<a href=\"https://cognitiveclass.ai/\"> Cognitive Class</a> "
   ]
  },
  {
   "cell_type": "markdown",
   "metadata": {},
   "source": [
    "<a href=\"https://github.com/adam-p/markdown-here/wiki/Markdown-Cheatsheet\"> markdown styling</a> "
   ]
  },
  {
   "cell_type": "markdown",
   "metadata": {},
   "source": [
    "# My Jupyter Notebook on IBM Watson Studio"
   ]
  },
  {
   "cell_type": "markdown",
   "metadata": {},
   "source": [
    "**Juan Jose Rivera Londoño**\n",
    "\n",
    "I'm currently studying my undergrad but I'm looking forward to get get a job as a data scientist, more specifically in the field of machine learning "
   ]
  },
  {
   "cell_type": "markdown",
   "metadata": {},
   "source": [
    "*I'm interested in data science because as I mentioned above machine learning is very appealing to me because of its broad range of applications in the industry and i want to become part of this new technological revolution*"
   ]
  },
  {
   "cell_type": "markdown",
   "metadata": {},
   "source": [
    "### In the code bellow we have the definition of a function that sums the number from 0 to n, n being the number the user enters, finally we give an example with n = 5."
   ]
  },
  {
   "cell_type": "code",
   "execution_count": 9,
   "metadata": {},
   "outputs": [
    {
     "name": "stdout",
     "output_type": "stream",
     "text": [
      "15\n"
     ]
    }
   ],
   "source": [
    "def sum_numbers(n):\n",
    "    summ = 0\n",
    "    for i in range(n+1):\n",
    "        summ += i\n",
    "    return summ\n",
    "\n",
    "## Example\n",
    "print(sum_numbers(5))"
   ]
  },
  {
   "cell_type": "markdown",
   "metadata": {},
   "source": [
    "### Hyperlink\n",
    "[My GitHub page](https://github.com/riverajuanjose)\n",
    "\n",
    "### Syntax/Code Highlighting\n",
    "\n",
    "Some python code that define a general lambda expression.\n",
    "```python\n",
    "func = lambda x: np.mean(x)\n",
    "```\n",
    "### Images\n",
    "Neural network image \n",
    "![alt text](https://i.ytimg.com/vi/aircAruvnKk/maxresdefault.jpg)"
   ]
  },
  {
   "cell_type": "code",
   "execution_count": null,
   "metadata": {},
   "outputs": [],
   "source": []
  }
 ],
 "metadata": {
  "kernelspec": {
   "display_name": "Python",
   "language": "python",
   "name": "conda-env-python-py"
  },
  "language_info": {
   "codemirror_mode": {
    "name": "ipython",
    "version": 3
   },
   "file_extension": ".py",
   "mimetype": "text/x-python",
   "name": "python",
   "nbconvert_exporter": "python",
   "pygments_lexer": "ipython3",
   "version": "3.7.12"
  }
 },
 "nbformat": 4,
 "nbformat_minor": 4
}
